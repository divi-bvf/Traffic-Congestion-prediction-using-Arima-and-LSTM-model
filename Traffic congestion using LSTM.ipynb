{
 "cells": [
  {
   "cell_type": "code",
   "execution_count": 20,
   "id": "2dbf4335",
   "metadata": {},
   "outputs": [],
   "source": [
    "import pandas as pd\n",
    "import numpy as np\n",
    "from sklearn.preprocessing import MinMaxScaler\n",
    "from sklearn.metrics import mean_squared_error\n",
    "from tensorflow.keras.models import Sequential\n",
    "from tensorflow.keras.layers import LSTM, Dense\n",
    "from statsmodels.tsa.stattools import adfuller\n",
    "from sklearn.metrics import mean_absolute_error\n",
    "from sklearn.metrics import mean_squared_error, mean_absolute_error\n",
    "import matplotlib.pyplot as plt"
   ]
  },
  {
   "cell_type": "code",
   "execution_count": 3,
   "id": "9225bc1e",
   "metadata": {},
   "outputs": [
    {
     "data": {
      "text/html": [
       "<div>\n",
       "<style scoped>\n",
       "    .dataframe tbody tr th:only-of-type {\n",
       "        vertical-align: middle;\n",
       "    }\n",
       "\n",
       "    .dataframe tbody tr th {\n",
       "        vertical-align: top;\n",
       "    }\n",
       "\n",
       "    .dataframe thead th {\n",
       "        text-align: right;\n",
       "    }\n",
       "</style>\n",
       "<table border=\"1\" class=\"dataframe\">\n",
       "  <thead>\n",
       "    <tr style=\"text-align: right;\">\n",
       "      <th></th>\n",
       "      <th>DateTime</th>\n",
       "      <th>Junction</th>\n",
       "      <th>Vehicles</th>\n",
       "      <th>ID</th>\n",
       "    </tr>\n",
       "  </thead>\n",
       "  <tbody>\n",
       "    <tr>\n",
       "      <th>0</th>\n",
       "      <td>2015-11-01 00:00:00</td>\n",
       "      <td>1</td>\n",
       "      <td>15</td>\n",
       "      <td>20151101001</td>\n",
       "    </tr>\n",
       "    <tr>\n",
       "      <th>1</th>\n",
       "      <td>2015-11-01 01:00:00</td>\n",
       "      <td>1</td>\n",
       "      <td>13</td>\n",
       "      <td>20151101011</td>\n",
       "    </tr>\n",
       "    <tr>\n",
       "      <th>2</th>\n",
       "      <td>2015-11-01 02:00:00</td>\n",
       "      <td>1</td>\n",
       "      <td>10</td>\n",
       "      <td>20151101021</td>\n",
       "    </tr>\n",
       "    <tr>\n",
       "      <th>3</th>\n",
       "      <td>2015-11-01 03:00:00</td>\n",
       "      <td>1</td>\n",
       "      <td>7</td>\n",
       "      <td>20151101031</td>\n",
       "    </tr>\n",
       "    <tr>\n",
       "      <th>4</th>\n",
       "      <td>2015-11-01 04:00:00</td>\n",
       "      <td>1</td>\n",
       "      <td>9</td>\n",
       "      <td>20151101041</td>\n",
       "    </tr>\n",
       "    <tr>\n",
       "      <th>...</th>\n",
       "      <td>...</td>\n",
       "      <td>...</td>\n",
       "      <td>...</td>\n",
       "      <td>...</td>\n",
       "    </tr>\n",
       "    <tr>\n",
       "      <th>48115</th>\n",
       "      <td>2017-06-30 19:00:00</td>\n",
       "      <td>4</td>\n",
       "      <td>11</td>\n",
       "      <td>20170630194</td>\n",
       "    </tr>\n",
       "    <tr>\n",
       "      <th>48116</th>\n",
       "      <td>2017-06-30 20:00:00</td>\n",
       "      <td>4</td>\n",
       "      <td>30</td>\n",
       "      <td>20170630204</td>\n",
       "    </tr>\n",
       "    <tr>\n",
       "      <th>48117</th>\n",
       "      <td>2017-06-30 21:00:00</td>\n",
       "      <td>4</td>\n",
       "      <td>16</td>\n",
       "      <td>20170630214</td>\n",
       "    </tr>\n",
       "    <tr>\n",
       "      <th>48118</th>\n",
       "      <td>2017-06-30 22:00:00</td>\n",
       "      <td>4</td>\n",
       "      <td>22</td>\n",
       "      <td>20170630224</td>\n",
       "    </tr>\n",
       "    <tr>\n",
       "      <th>48119</th>\n",
       "      <td>2017-06-30 23:00:00</td>\n",
       "      <td>4</td>\n",
       "      <td>12</td>\n",
       "      <td>20170630234</td>\n",
       "    </tr>\n",
       "  </tbody>\n",
       "</table>\n",
       "<p>48120 rows × 4 columns</p>\n",
       "</div>"
      ],
      "text/plain": [
       "                  DateTime  Junction  Vehicles           ID\n",
       "0      2015-11-01 00:00:00         1        15  20151101001\n",
       "1      2015-11-01 01:00:00         1        13  20151101011\n",
       "2      2015-11-01 02:00:00         1        10  20151101021\n",
       "3      2015-11-01 03:00:00         1         7  20151101031\n",
       "4      2015-11-01 04:00:00         1         9  20151101041\n",
       "...                    ...       ...       ...          ...\n",
       "48115  2017-06-30 19:00:00         4        11  20170630194\n",
       "48116  2017-06-30 20:00:00         4        30  20170630204\n",
       "48117  2017-06-30 21:00:00         4        16  20170630214\n",
       "48118  2017-06-30 22:00:00         4        22  20170630224\n",
       "48119  2017-06-30 23:00:00         4        12  20170630234\n",
       "\n",
       "[48120 rows x 4 columns]"
      ]
     },
     "execution_count": 3,
     "metadata": {},
     "output_type": "execute_result"
    }
   ],
   "source": [
    "df = pd.read_csv('traffic.csv')\n",
    "df"
   ]
  },
  {
   "cell_type": "code",
   "execution_count": 21,
   "id": "bc9ba9ac",
   "metadata": {},
   "outputs": [
    {
     "name": "stdout",
     "output_type": "stream",
     "text": [
      "ADF Statistic: -0.3233541182095162\n",
      "p-value:  0.9221309443842827\n",
      "Critical Values:  {'1%': -3.4304859057519437, '5%': -2.8616000674994804, '10%': -2.5668019719523705}\n",
      "Fall to reject the null hypothesis.The data is non-stationary\n"
     ]
    }
   ],
   "source": [
    "time_series=df['Junction']\n",
    "result = adfuller(time_series)\n",
    "print('ADF Statistic:', result[0])\n",
    "print('p-value: ',result[1])\n",
    "print('Critical Values: ',result[4])\n",
    "\n",
    "if result[1] <= 0.05:\n",
    "    print('Reject the null hypothesis. The data is stationary.')\n",
    "else:\n",
    "    print('Fall to reject the null hypothesis.The data is non-stationary')"
   ]
  },
  {
   "cell_type": "code",
   "execution_count": 4,
   "id": "41699215",
   "metadata": {},
   "outputs": [],
   "source": [
    "data = df['Vehicles'].values.reshape(-1, 1)\n"
   ]
  },
  {
   "cell_type": "code",
   "execution_count": 5,
   "id": "77cfc69b",
   "metadata": {},
   "outputs": [],
   "source": [
    "scaler = MinMaxScaler(feature_range=(0, 1))\n",
    "data_scaled = scaler.fit_transform(data)"
   ]
  },
  {
   "cell_type": "code",
   "execution_count": 6,
   "id": "6df5fed4",
   "metadata": {},
   "outputs": [],
   "source": [
    "def create_dataset(dataset, time_steps=1):\n",
    "    X, Y = [], []\n",
    "    for i in range(len(dataset) - time_steps):\n",
    "        a = dataset[i:(i + time_steps), 0]\n",
    "        X.append(a)\n",
    "        Y.append(dataset[i + time_steps, 0])\n",
    "    return np.array(X), np.array(Y)"
   ]
  },
  {
   "cell_type": "code",
   "execution_count": 7,
   "id": "413d66e5",
   "metadata": {},
   "outputs": [],
   "source": [
    "time_steps = 3 "
   ]
  },
  {
   "cell_type": "code",
   "execution_count": 8,
   "id": "3927f071",
   "metadata": {},
   "outputs": [],
   "source": [
    "X, Y = create_dataset(data_scaled, time_steps)\n"
   ]
  },
  {
   "cell_type": "code",
   "execution_count": 9,
   "id": "8723a8c7",
   "metadata": {},
   "outputs": [],
   "source": [
    "X = np.reshape(X, (X.shape[0], 1, X.shape[1]))\n"
   ]
  },
  {
   "cell_type": "code",
   "execution_count": 10,
   "id": "724d28d7",
   "metadata": {},
   "outputs": [],
   "source": [
    "model = Sequential()\n",
    "model.add(LSTM(units=50, return_sequences=True, input_shape=(1, time_steps)))\n",
    "model.add(LSTM(units=50))\n",
    "model.add(Dense(units=1))\n",
    "model.compile(optimizer='adam', loss='mean_squared_error')"
   ]
  },
  {
   "cell_type": "code",
   "execution_count": 34,
   "id": "0cf18a4f",
   "metadata": {},
   "outputs": [
    {
     "name": "stdout",
     "output_type": "stream",
     "text": [
      "Epoch 1/25\n",
      "1354/1354 [==============================] - 4s 3ms/step - loss: 7.3932e-04 - val_loss: 4.9065e-04\n",
      "Epoch 2/25\n",
      "1354/1354 [==============================] - 4s 3ms/step - loss: 7.3900e-04 - val_loss: 4.7427e-04\n",
      "Epoch 3/25\n",
      "1354/1354 [==============================] - 4s 3ms/step - loss: 7.3589e-04 - val_loss: 5.4701e-04\n",
      "Epoch 4/25\n",
      "1354/1354 [==============================] - 4s 3ms/step - loss: 7.3962e-04 - val_loss: 4.8734e-04\n",
      "Epoch 5/25\n",
      "1354/1354 [==============================] - 4s 3ms/step - loss: 7.3698e-04 - val_loss: 4.8705e-04\n",
      "Epoch 6/25\n",
      "1354/1354 [==============================] - 4s 3ms/step - loss: 7.3669e-04 - val_loss: 4.9206e-04\n",
      "Epoch 7/25\n",
      "1354/1354 [==============================] - 4s 3ms/step - loss: 7.3706e-04 - val_loss: 4.8489e-04\n",
      "Epoch 8/25\n",
      "1354/1354 [==============================] - 4s 3ms/step - loss: 7.3548e-04 - val_loss: 4.8275e-04\n",
      "Epoch 9/25\n",
      "1354/1354 [==============================] - 3s 3ms/step - loss: 7.3489e-04 - val_loss: 5.0815e-04\n",
      "Epoch 10/25\n",
      "1354/1354 [==============================] - 4s 3ms/step - loss: 7.3728e-04 - val_loss: 4.7901e-04\n",
      "Epoch 11/25\n",
      "1354/1354 [==============================] - 3s 3ms/step - loss: 7.3660e-04 - val_loss: 4.8885e-04\n",
      "Epoch 12/25\n",
      "1354/1354 [==============================] - 4s 3ms/step - loss: 7.3668e-04 - val_loss: 4.8415e-04\n",
      "Epoch 13/25\n",
      "1354/1354 [==============================] - 4s 3ms/step - loss: 7.3518e-04 - val_loss: 4.9554e-04\n",
      "Epoch 14/25\n",
      "1354/1354 [==============================] - 4s 3ms/step - loss: 7.3586e-04 - val_loss: 5.1704e-04\n",
      "Epoch 15/25\n",
      "1354/1354 [==============================] - 4s 3ms/step - loss: 7.3418e-04 - val_loss: 4.9888e-04\n",
      "Epoch 16/25\n",
      "1354/1354 [==============================] - 4s 3ms/step - loss: 7.3642e-04 - val_loss: 4.8272e-04\n",
      "Epoch 17/25\n",
      "1354/1354 [==============================] - 4s 3ms/step - loss: 7.3631e-04 - val_loss: 5.3535e-04\n",
      "Epoch 18/25\n",
      "1354/1354 [==============================] - 4s 3ms/step - loss: 7.3443e-04 - val_loss: 5.0010e-04\n",
      "Epoch 19/25\n",
      "1354/1354 [==============================] - 4s 3ms/step - loss: 7.3549e-04 - val_loss: 4.7851e-04\n",
      "Epoch 20/25\n",
      "1354/1354 [==============================] - 4s 3ms/step - loss: 7.3417e-04 - val_loss: 4.9947e-04\n",
      "Epoch 21/25\n",
      "1354/1354 [==============================] - 4s 3ms/step - loss: 7.3397e-04 - val_loss: 5.0036e-04\n",
      "Epoch 22/25\n",
      "1354/1354 [==============================] - 4s 3ms/step - loss: 7.3282e-04 - val_loss: 5.1291e-04\n",
      "Epoch 23/25\n",
      "1354/1354 [==============================] - 4s 3ms/step - loss: 7.3532e-04 - val_loss: 5.0350e-04\n",
      "Epoch 24/25\n",
      "1354/1354 [==============================] - 4s 3ms/step - loss: 7.3447e-04 - val_loss: 4.9630e-04\n",
      "Epoch 25/25\n",
      "1354/1354 [==============================] - 4s 3ms/step - loss: 7.3356e-04 - val_loss: 5.1014e-04\n"
     ]
    },
    {
     "data": {
      "text/plain": [
       "<keras.src.callbacks.History at 0x21f88880d90>"
      ]
     },
     "execution_count": 34,
     "metadata": {},
     "output_type": "execute_result"
    }
   ],
   "source": [
    "history=model.fit(X, Y, epochs=25, batch_size=32,validation_split=0.1)\n",
    "history"
   ]
  },
  {
   "cell_type": "code",
   "execution_count": 37,
   "id": "f1308167",
   "metadata": {},
   "outputs": [
    {
     "name": "stdout",
     "output_type": "stream",
     "text": [
      "dict_keys(['loss', 'val_loss'])\n"
     ]
    }
   ],
   "source": [
    "print(history.history.keys())\n"
   ]
  },
  {
   "cell_type": "code",
   "execution_count": 41,
   "id": "27aa4e3c",
   "metadata": {},
   "outputs": [
    {
     "data": {
      "image/png": "[encoded data removed]",
      "text/plain": [
       "<Figure size 432x288 with 1 Axes>"
      ]
     },
     "metadata": {
      "needs_background": "light"
     },
     "output_type": "display_data"
    }
   ],
   "source": [
    "plt.plot(history.history['loss'])\n",
    "plt.title('Model Loss')\n",
    "plt.xlabel('Epoch')\n",
    "plt.ylabel('Loss')\n",
    "plt.show()"
   ]
  },
  {
   "cell_type": "code",
   "execution_count": 12,
   "id": "10093af5",
   "metadata": {},
   "outputs": [
    {
     "name": "stdout",
     "output_type": "stream",
     "text": [
      "1/1 [==============================] - 0s 448ms/step\n"
     ]
    }
   ],
   "source": [
    "test_input = data_scaled[-time_steps:]\n",
    "test_input = np.reshape(test_input, (1, 1, time_steps))\n",
    "predicted_vehicle_count_scaled = model.predict(test_input)"
   ]
  },
  {
   "cell_type": "code",
   "execution_count": 13,
   "id": "a4279560",
   "metadata": {},
   "outputs": [
    {
     "name": "stdout",
     "output_type": "stream",
     "text": [
      "Predicted Vehicle Count: 14.37401\n",
      "1504/1504 [==============================] - 2s 1ms/step\n"
     ]
    }
   ],
   "source": [
    "predicted_vehicle_count = scaler.inverse_transform(predicted_vehicle_count_scaled)\n",
    "\n",
    "print(\"Predicted Vehicle Count:\", predicted_vehicle_count[0, 0])\n",
    "\n",
    "predicted_scaled = model.predict(X)"
   ]
  },
  {
   "cell_type": "code",
   "execution_count": 14,
   "id": "45a78a3b",
   "metadata": {},
   "outputs": [],
   "source": [
    "predicted = scaler.inverse_transform(predicted_scaled)\n"
   ]
  },
  {
   "cell_type": "code",
   "execution_count": 15,
   "id": "00174a3c",
   "metadata": {},
   "outputs": [],
   "source": [
    "actual = scaler.inverse_transform(Y.reshape(-1, 1))\n"
   ]
  },
  {
   "cell_type": "code",
   "execution_count": 16,
   "id": "72f79335",
   "metadata": {},
   "outputs": [
    {
     "name": "stdout",
     "output_type": "stream",
     "text": [
      "MAPE: 27.942605447949227\n",
      "RMSE: 5.259055297762285\n",
      "MSE: 27.657662624921553\n",
      "MAE: 3.6376456502251098\n"
     ]
    }
   ],
   "source": [
    "mape = np.mean(np.abs((actual - predicted) / actual)) * 100\n",
    "rmse = np.sqrt(mean_squared_error(actual, predicted))\n",
    "mse = mean_squared_error(actual, predicted)\n",
    "mae = mean_absolute_error(actual, predicted)\n",
    "print(\"MAPE:\", mape)\n",
    "print(\"RMSE:\", rmse)\n",
    "print(\"MSE:\", mse)\n",
    "print(\"MAE:\", mae)"
   ]
  },
  {
   "cell_type": "code",
   "execution_count": 17,
   "id": "c00eceea",
   "metadata": {},
   "outputs": [
    {
     "data": {
      "image/png": "[encoded data removed]",
      "text/plain": [
       "<Figure size 1080x432 with 1 Axes>"
      ]
     },
     "metadata": {
      "needs_background": "light"
     },
     "output_type": "display_data"
    }
   ],
   "source": [
    "plt.figure(figsize=(15, 6))\n",
    "plt.plot(actual, label='Actual', color='blue')\n",
    "plt.plot(predicted, label='Predicted', color='red')\n",
    "plt.title('Actual vs Predicted Vehicle Count')\n",
    "plt.xlabel('Time')\n",
    "plt.ylabel('Vehicle Count')\n",
    "plt.legend()\n",
    "plt.show()\n"
   ]
  },
  {
   "cell_type": "code",
   "execution_count": null,
   "id": "c4493122",
   "metadata": {},
   "outputs": [],
   "source": []
  }
 ],
 "metadata": {
  "kernelspec": {
   "display_name": "Python 3",
   "language": "python",
   "name": "python3"
  },
  "language_info": {
   "codemirror_mode": {
    "name": "ipython",
    "version": 3
   },
   "file_extension": ".py",
   "mimetype": "text/x-python",
   "name": "python",
   "nbconvert_exporter": "python",
   "pygments_lexer": "ipython3",
   "version": "3.8.8"
  }
 },
 "nbformat": 4,
 "nbformat_minor": 5
}
